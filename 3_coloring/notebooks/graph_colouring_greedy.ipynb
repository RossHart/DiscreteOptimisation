{
 "cells": [
  {
   "cell_type": "code",
   "execution_count": 1,
   "metadata": {},
   "outputs": [],
   "source": [
    "using Dates"
   ]
  },
  {
   "cell_type": "code",
   "execution_count": 2,
   "metadata": {},
   "outputs": [
    {
     "data": {
      "text/plain": [
       "read_input (generic function with 1 method)"
      ]
     },
     "execution_count": 2,
     "metadata": {},
     "output_type": "execute_result"
    }
   ],
   "source": [
    "function read_input(input_data)\n",
    "    \"\"\"\n",
    "    Read in the input data to a value for N, E\n",
    "    and an array of edges.\n",
    "    \"\"\"\n",
    "\n",
    "    input_strings = split(input_data, \"\\n\")\n",
    "    N, E = split(input_strings[1], \" \")\n",
    "    N = parse(Int64, N)\n",
    "    E = parse(Int64, E)\n",
    "    edges = Array{Int64}(undef, 0, 2)\n",
    "    new_edges = []\n",
    "    # loop through and generate a complete list of edges\n",
    "    for i in 2:E+1\n",
    "        edge_start, edge_end = split(input_strings[i], \" \")\n",
    "        edge_start = parse(Int64, edge_start)\n",
    "        edge_end = parse(Int64, edge_end)\n",
    "        edges = vcat(edges, transpose([edge_start, edge_end]))\n",
    "    end\n",
    "    \n",
    "    return N, E, edges\n",
    "end"
   ]
  },
  {
   "cell_type": "code",
   "execution_count": 8,
   "metadata": {},
   "outputs": [
    {
     "data": {
      "text/plain": [
       "fill_greedily (generic function with 2 methods)"
      ]
     },
     "execution_count": 8,
     "metadata": {},
     "output_type": "execute_result"
    }
   ],
   "source": [
    "mutable struct Node\n",
    "    \"\"\"\n",
    "    Node to store which node has which \n",
    "    neighbours.\n",
    "    \"\"\"\n",
    "    node_number::Int64\n",
    "    edges::Array\n",
    "    colour::Int64\n",
    "end\n",
    "\n",
    "\n",
    "function generate_nodes(N::Int64, E::Int64, edges::Array)\n",
    "    \"\"\"\n",
    "    Generate a complete list of nodes.\n",
    "    \"\"\"\n",
    "    nodes = Dict{Int64, Any}()\n",
    "    for i in 0:(N-1)\n",
    "        nodes[i] = Node(i, [], -1)\n",
    "    end\n",
    "\n",
    "    # set up the connections between the nodes\n",
    "    for i in 1:E\n",
    "        edge_start, edge_end = edges[i, :]\n",
    "        push!(nodes[edge_start].edges, edge_end)\n",
    "        push!(nodes[edge_end].edges, edge_start)\n",
    "    end\n",
    "    return nodes\n",
    "end\n",
    "\n",
    "\n",
    "function find_domain(node, nodes, N_colours = 2)\n",
    "    \"\"\"\n",
    "    Find the domain of a node. This should be \n",
    "    all of the colours our node can take plus\n",
    "    one extra colour which we may choose.\n",
    "    \"\"\"\n",
    "    domain = collect(1:N_colours+1)\n",
    "    \n",
    "    for neighbour_number in node.edges\n",
    "        filter!(x -> x != nodes[neighbour_number].colour, domain)\n",
    "    end     \n",
    "    \n",
    "    return domain\n",
    "end\n",
    "\n",
    "\n",
    "function find_N_colours(nodes)\n",
    "    \"\"\"\n",
    "    Find whichever is the max colour that was\n",
    "    used in the graph colouring.\n",
    "    \"\"\"\n",
    "    max_colour = 0\n",
    "    \n",
    "    for (key, node) in nodes\n",
    "        if node.colour > max_colour\n",
    "            max_colour = node.colour\n",
    "        end\n",
    "    end\n",
    "    return max_colour\n",
    "end\n",
    "        \n",
    "\n",
    "function select_next_node(nodes; N_colours = 1)\n",
    "    \"\"\"\n",
    "    Given a set of nodes, some of which are uncoloured,\n",
    "    select the next most constrained node.\n",
    "    \"\"\"\n",
    "    \n",
    "    smallest_domain = Inf\n",
    "    largest_n_neighbours = -Inf\n",
    "    most_constrained_node = nothing\n",
    "    \n",
    "    for (key, node) in nodes\n",
    "        domain = find_domain(node, nodes, N_colours)\n",
    "        neighbours = node.edges\n",
    "        # find node with smallest domain and most neighbours\n",
    "        domain_size = length(domain)\n",
    "        n_neighbours = length(neighbours)\n",
    "        \n",
    "        if node.colour == -1 # uncoloured node\n",
    "            if domain_size <= smallest_domain # has smallest domain\n",
    "                if n_neighbours > largest_n_neighbours # has the most neighbours\n",
    "                    most_constrained_node = node\n",
    "                    smallest_domain = domain_size\n",
    "                    largest_n_neighbours = n_neighbours\n",
    "                end\n",
    "            end\n",
    "        end\n",
    "    end\n",
    "    return most_constrained_node\n",
    "end\n",
    "\n",
    "\n",
    "function fill_greedily(nodes, N; verbose = true)\n",
    "    # fill up the nodes greedily\n",
    "    N_colours = 1\n",
    "    choice_cache = []\n",
    "    \n",
    "    for i in 1:N\n",
    "        node = select_next_node(nodes, N_colours = N_colours)\n",
    "        # assign the smallest possible colour\n",
    "        make_choice(node, nodes, N_colours, choice_cache, verbose = false)\n",
    "        # re-calculate the domain size\n",
    "        N_colours = find_N_colours(nodes)\n",
    "    end\n",
    "    \n",
    "    if verbose == true\n",
    "        N_colours = find_N_colours(nodes)\n",
    "        println(\"Graph filled. Result has $(N_colours) colours.\")\n",
    "    end\n",
    "    \n",
    "    return nodes, choice_cache\n",
    "end"
   ]
  },
  {
   "cell_type": "code",
   "execution_count": 19,
   "metadata": {},
   "outputs": [
    {
     "data": {
      "text/plain": [
       "refill_greedily (generic function with 1 method)"
      ]
     },
     "execution_count": 19,
     "metadata": {},
     "output_type": "execute_result"
    }
   ],
   "source": [
    "# add in abilities to revert to any previously made choices and try again?\n",
    "choice_cache = []\n",
    "\n",
    "mutable struct Choice\n",
    "    nodes::Dict # the node status at the moment the choice is made\n",
    "    node # the node number we made the choice on\n",
    "    choice_counter::Int64 # which choice we made\n",
    "end\n",
    "\n",
    "\n",
    "function make_choice(node, nodes, N_colours, choice_cache::Array; verbose = true)\n",
    "    \"\"\"\n",
    "    Whenever a choice is made, create an instance where \n",
    "    we store the status of the system at the time of the \n",
    "    choice.\n",
    "    \"\"\"\n",
    "    # first, open up a choice instance\n",
    "    domain = find_domain(node, nodes, N_colours)\n",
    "    colour = minimum(domain)\n",
    "    node.colour = colour\n",
    "    \n",
    "    if length(domain) > 1\n",
    "        # make a copy at the point of the choice\n",
    "        node_copy = deepcopy(nodes)\n",
    "        choice = Choice(node_copy, node_copy[node.node_number], 1)\n",
    "        push!(choice_cache, choice)\n",
    "    end\n",
    "    \n",
    "    if verbose == true\n",
    "        println(\"Made choice of colour $(colour) for node $(node.node_number).\")\n",
    "    end\n",
    "end\n",
    "\n",
    "    \n",
    "function revert_to_previous_choice(choice_cache)\n",
    "    \"\"\"\n",
    "    Revert our algorithm to a previous choice and try again;\n",
    "    if we run out of choices, then we are optimal. \n",
    "    \"\"\"\n",
    "    choice_made = false\n",
    "    node = nothing\n",
    "    nodes = nothing\n",
    "        \n",
    "    while (length(choice_cache) >= 1) & (choice_made == false)\n",
    "        choice = choice_cache[end]\n",
    "        choice_cache = choice_cache[1:end-1]\n",
    "        nodes = choice.nodes\n",
    "        node = choice.node\n",
    "        choice.choice_counter += 1\n",
    "        counter = choice.choice_counter\n",
    "        \n",
    "        # find the domain\n",
    "        N_colours = find_N_colours(nodes)\n",
    "        domain = find_domain(node, nodes, N_colours)\n",
    "        \n",
    "        # if our counter exceeds our choices, then remove.\n",
    "        if length(domain) >= counter\n",
    "            node.colour = domain[counter]\n",
    "            choice_made = true\n",
    "        end\n",
    "    end\n",
    "    \n",
    "    return nodes, choice_cache\n",
    "end\n",
    "\n",
    "\n",
    "function count_uncoloured(nodes)\n",
    "    N_uncoloured = 0\n",
    "    for (key,node) in nodes\n",
    "        if node.colour == -1\n",
    "            N_uncoloured += 1\n",
    "        end\n",
    "    end\n",
    "    return N_uncoloured\n",
    "end\n",
    "\n",
    "\n",
    "function refill_greedily(nodes, choice_cache, best_N; verbose = true)\n",
    "    \"\"\"\n",
    "    Refill in a greedy fashion using a previous\n",
    "    choice we made.\n",
    "    \"\"\"\n",
    "    N = count_uncoloured(nodes)\n",
    "    i = 1\n",
    "    N_colours = find_N_colours(nodes)\n",
    "    \n",
    "    while (i < N) & (N_colours < best_N)\n",
    "        node = select_next_node(nodes, N_colours = N_colours)\n",
    "        # assign the smallest possible colour\n",
    "        make_choice(node, nodes, N_colours, choice_cache, verbose = false)\n",
    "        # re-calculate the domain size\n",
    "        N_colours = find_N_colours(nodes)\n",
    "        i += 1\n",
    "    end\n",
    "    \n",
    "    if verbose == true\n",
    "        N_colours = find_N_colours(nodes)\n",
    "        N_uncoloured = count_uncoloured(nodes)\n",
    "        println(\"Refilled colours. New solution has $(N_colours) in total.\")\n",
    "        println(\"New solution has $(N_uncoloured) left uncoloured.\")\n",
    "    end\n",
    "    \n",
    "    N_uncoloured = count_uncoloured(nodes)\n",
    "    if N_uncoloured > 0\n",
    "        feasible = false\n",
    "    else\n",
    "        feasible = true\n",
    "    end\n",
    "    \n",
    "    return nodes, choice_cache, feasible\n",
    "end "
   ]
  },
  {
   "cell_type": "code",
   "execution_count": 20,
   "metadata": {},
   "outputs": [
    {
     "data": {
      "text/plain": [
       "format_result (generic function with 1 method)"
      ]
     },
     "execution_count": 20,
     "metadata": {},
     "output_type": "execute_result"
    }
   ],
   "source": [
    "function format_result(result, N, optimal, N_colours)\n",
    "    \n",
    "    result_string = \"$(N_colours) $(optimal) \\n\"\n",
    "    for i in 0:N-1\n",
    "        result_string *= \" $(result[i].colour)\"\n",
    "    end\n",
    "    return result_string\n",
    "end"
   ]
  },
  {
   "cell_type": "code",
   "execution_count": 21,
   "metadata": {},
   "outputs": [
    {
     "data": {
      "text/plain": [
       "colour_graph (generic function with 1 method)"
      ]
     },
     "execution_count": 21,
     "metadata": {},
     "output_type": "execute_result"
    }
   ],
   "source": [
    "function colour_graph(input_data; verbose = false, iter_limit = 100000, timeout = 10)\n",
    "\n",
    "    # start the clock...\n",
    "    t0 = Dates.now()\n",
    "    t1 = Dates.now()\n",
    "    max_time = Dates.Millisecond(1000 * timeout)\n",
    "    \n",
    "    N, E, edges = read_input(input_data)\n",
    "    nodes = generate_nodes(N, E, edges)\n",
    "    result, choice_cache = fill_greedily(nodes, N, verbose = verbose)\n",
    "    N_colours = find_N_colours(result)\n",
    "\n",
    "    i = 1\n",
    "    while (i < iter_limit) & (length(choice_cache) > 0) & (t1 - t0 < max_time)\n",
    "        nodes, choice_cache = revert_to_previous_choice(choice_cache)\n",
    "        nodes, choice_cache, feasible = refill_greedily(nodes, choice_cache, N_colours, verbose = verbose)\n",
    "        N_colours_new = find_N_colours(nodes)\n",
    "        if (N_colours_new < N_colours) & (feasible == true)\n",
    "            N_colours = N_colours_new\n",
    "            result = nodes\n",
    "        end\n",
    "        i += 1\n",
    "        t1 = Dates.now()\n",
    "    end\n",
    "\n",
    "    if length(choice_cache) == 0\n",
    "        optimal = 1\n",
    "    else\n",
    "        optimal = 0\n",
    "    end\n",
    "    \n",
    "    formatted_result = format_result(result, N, optimal, N_colours)\n",
    "    return formatted_result\n",
    "end"
   ]
  },
  {
   "cell_type": "code",
   "execution_count": 22,
   "metadata": {},
   "outputs": [
    {
     "data": {
      "text/plain": [
       "\"11 1 \\n 3 9 2 8 3 7 4 5 7 4 10 1 11 6 5 11 5 9 2 6\""
      ]
     },
     "execution_count": 22,
     "metadata": {},
     "output_type": "execute_result"
    }
   ],
   "source": [
    "input_data = read(\"data/gc_20_9\", String)\n",
    "result = colour_graph(input_data)"
   ]
  },
  {
   "cell_type": "code",
   "execution_count": null,
   "metadata": {},
   "outputs": [],
   "source": []
  }
 ],
 "metadata": {
  "kernelspec": {
   "display_name": "Julia 1.3.1",
   "language": "julia",
   "name": "julia-1.3"
  },
  "language_info": {
   "file_extension": ".jl",
   "mimetype": "application/julia",
   "name": "julia",
   "version": "1.3.1"
  }
 },
 "nbformat": 4,
 "nbformat_minor": 4
}
