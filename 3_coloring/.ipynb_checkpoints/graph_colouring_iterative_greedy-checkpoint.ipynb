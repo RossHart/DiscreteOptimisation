{
 "cells": [
  {
   "cell_type": "code",
   "execution_count": 1,
   "metadata": {},
   "outputs": [
    {
     "name": "stderr",
     "output_type": "stream",
     "text": [
      "┌ Info: Precompiling StatsBase [2913bbd2-ae8a-5f71-8c99-4fb6c76f3a91]\n",
      "└ @ Base loading.jl:1260\n"
     ]
    }
   ],
   "source": [
    "using Dates\n",
    "using Random\n",
    "using StatsBase"
   ]
  },
  {
   "cell_type": "code",
   "execution_count": 9,
   "metadata": {},
   "outputs": [
    {
     "data": {
      "text/plain": [
       "read_input (generic function with 1 method)"
      ]
     },
     "execution_count": 9,
     "metadata": {},
     "output_type": "execute_result"
    }
   ],
   "source": [
    "function read_input(input_data)\n",
    "    \"\"\"\n",
    "    Read in the input data to a value for N, E\n",
    "    and an array of edges.\n",
    "    \"\"\"\n",
    "\n",
    "    input_strings = split(input_data, \"\\n\")\n",
    "    N, E = split(input_strings[1], \" \")\n",
    "    N = parse(Int64, N)\n",
    "    E = parse(Int64, E)\n",
    "    edges = Array{Int64}(undef, 0, 2)\n",
    "    new_edges = []\n",
    "    # loop through and generate a complete list of edges\n",
    "    for i in 2:E+1\n",
    "        edge_start, edge_end = split(input_strings[i], \" \")\n",
    "        edge_start = parse(Int64, edge_start)\n",
    "        edge_end = parse(Int64, edge_end)\n",
    "        edges = vcat(edges, transpose([edge_start, edge_end]))\n",
    "    end\n",
    "    \n",
    "    return N, E, edges\n",
    "end"
   ]
  },
  {
   "cell_type": "code",
   "execution_count": 10,
   "metadata": {},
   "outputs": [
    {
     "data": {
      "text/plain": [
       "find_N_colours (generic function with 1 method)"
      ]
     },
     "execution_count": 10,
     "metadata": {},
     "output_type": "execute_result"
    }
   ],
   "source": [
    "mutable struct Node\n",
    "    \"\"\"\n",
    "    Node to store which node has which \n",
    "    neighbours.\n",
    "    \"\"\"\n",
    "    node_number::Int64\n",
    "    edges::Array\n",
    "    colour::Int64\n",
    "end\n",
    "\n",
    "\n",
    "function generate_nodes(N::Int64, E::Int64, edges::Array)\n",
    "    \"\"\"\n",
    "    Generate a complete list of nodes.\n",
    "    \"\"\"\n",
    "    nodes = Dict{Int64, Any}()\n",
    "    for i in 0:(N-1)\n",
    "        nodes[i] = Node(i, [], -1)\n",
    "    end\n",
    "\n",
    "    # set up the connections between the nodes\n",
    "    for i in 1:E\n",
    "        edge_start, edge_end = edges[i, :]\n",
    "        push!(nodes[edge_start].edges, edge_end)\n",
    "        push!(nodes[edge_end].edges, edge_start)\n",
    "    end\n",
    "    return nodes\n",
    "end\n",
    "\n",
    "\n",
    "function find_domain(node, nodes, N_colours = 2)\n",
    "    \"\"\"\n",
    "    Find the domain of a node. This should be \n",
    "    all of the colours our node can take plus\n",
    "    one extra colour which we may choose.\n",
    "    \"\"\"\n",
    "    domain = collect(1:N_colours+1)\n",
    "    \n",
    "    for neighbour_number in node.edges\n",
    "        filter!(x -> x != nodes[neighbour_number].colour, domain)\n",
    "    end     \n",
    "    \n",
    "    return domain\n",
    "end\n",
    "\n",
    "\n",
    "function find_N_colours(nodes)\n",
    "    \"\"\"\n",
    "    Find whichever is the max colour that was\n",
    "    used in the graph colouring.\n",
    "    \"\"\"\n",
    "    max_colour = 0\n",
    "    \n",
    "    for (key, node) in nodes\n",
    "        if node.colour > max_colour\n",
    "            max_colour = node.colour\n",
    "        end\n",
    "    end\n",
    "    return max_colour\n",
    "end"
   ]
  },
  {
   "cell_type": "code",
   "execution_count": 11,
   "metadata": {},
   "outputs": [
    {
     "data": {
      "text/plain": [
       "format_result (generic function with 1 method)"
      ]
     },
     "execution_count": 11,
     "metadata": {},
     "output_type": "execute_result"
    }
   ],
   "source": [
    "function format_result(result, N, optimal, N_colours)\n",
    "    \n",
    "    result_string = \"$(N_colours) $(optimal) \\n\"\n",
    "    for i in 0:N-1\n",
    "        result_string *= \" $(result[i].colour)\"\n",
    "    end\n",
    "    return result_string\n",
    "end"
   ]
  },
  {
   "cell_type": "code",
   "execution_count": 12,
   "metadata": {},
   "outputs": [
    {
     "data": {
      "text/plain": [
       "fill_greedily (generic function with 1 method)"
      ]
     },
     "execution_count": 12,
     "metadata": {},
     "output_type": "execute_result"
    }
   ],
   "source": [
    "function order_nodes_welsh_powell(nodes)\n",
    "    ordering = sort(collect(nodes), by = x -> length(x[2].edges), rev = true)\n",
    "    ordering = [order[1] for order in ordering]\n",
    "    return ordering\n",
    "end\n",
    "\n",
    "\n",
    "function fill_greedily(nodes, ordering; verbose = true)\n",
    "    # fill up the nodes greedily\n",
    "    N_colours = 1\n",
    "    choice_cache = []\n",
    "    \n",
    "    for node_number in ordering\n",
    "        node = nodes[node_number]\n",
    "        domain = find_domain(node, nodes, N_colours)\n",
    "        node.colour = domain[1]\n",
    "        # re-calculate the domain size\n",
    "        N_colours = find_N_colours(nodes)\n",
    "    end\n",
    "    \n",
    "    if verbose == true\n",
    "        N_colours = find_N_colours(nodes)\n",
    "        println(\"Graph filled. Result has $(N_colours) colours.\")\n",
    "    end\n",
    "    \n",
    "    return nodes\n",
    "end"
   ]
  },
  {
   "cell_type": "code",
   "execution_count": 31,
   "metadata": {},
   "outputs": [
    {
     "data": {
      "text/plain": [
       "reset_nodes (generic function with 1 method)"
      ]
     },
     "execution_count": 31,
     "metadata": {},
     "output_type": "execute_result"
    }
   ],
   "source": [
    "function order_by_colour(nodes, colour_order)\n",
    "\n",
    "    N_colours = find_N_colours(nodes)\n",
    "    colours = 1:N_colours\n",
    "\n",
    "    nodes_by_colour = Dict()\n",
    "    for colour in colours\n",
    "        nodes_by_colour[colour] = Dict()\n",
    "    end\n",
    "\n",
    "    for (node_number, node) in nodes\n",
    "        for colour in colours\n",
    "            if node.colour == colour\n",
    "                nodes_by_colour[colour][node.node_number] = node\n",
    "            end\n",
    "        end\n",
    "    end\n",
    "\n",
    "    # order our set of colours by whichever order we supplied\n",
    "    if colour_order == \"reverse\"\n",
    "        colour_ordering = N_colours:-1:1\n",
    "    elseif colour_order == \"decreasing\"\n",
    "        colour_ordering = sort(collect(nodes_by_colour), by = x -> length(x))\n",
    "        colour_ordering = [colour[1] for colour in colour_ordering]\n",
    "    elseif colour_order == \"increasing\" \n",
    "        colour_ordering = sort(collect(nodes_by_colour), by = x -> length(x))\n",
    "        colour_ordering = reverse([colour[1] for colour in colour_ordering])\n",
    "    else # random ordering\n",
    "        colour_ordering = shuffle!(collect(N_colours:-1:1))\n",
    "    end\n",
    "\n",
    "    final_ordering = []\n",
    "\n",
    "    for colour in colour_ordering\n",
    "        ordering_by_colour = order_nodes_welsh_powell(nodes_by_colour[colour])\n",
    "        final_ordering = vcat(final_ordering, ordering_by_colour)\n",
    "    end\n",
    "    \n",
    "    return final_ordering\n",
    "end\n",
    "\n",
    "function reset_nodes(nodes)\n",
    "    \"\"\"\n",
    "    Reset all of the nodes to be uncoloured.\n",
    "    \"\"\"\n",
    "    \n",
    "    for (key, node) in nodes\n",
    "        node.colour = -1\n",
    "    end\n",
    "end"
   ]
  },
  {
   "cell_type": "code",
   "execution_count": 22,
   "metadata": {},
   "outputs": [
    {
     "data": {
      "text/plain": [
       "generate_colour_order (generic function with 1 method)"
      ]
     },
     "execution_count": 22,
     "metadata": {},
     "output_type": "execute_result"
    }
   ],
   "source": [
    "function generate_colour_order()\n",
    "    \"\"\"\n",
    "    Generate a colour order by the frequency suggested in \n",
    "    https://pdfs.semanticscholar.org/0535/997d80cc4d1dbd7e02e02a57fe7d82e6fda1.pdf\n",
    "    ?_ga=2.125705482.1414436374.1587467710-1386486068.1587467710\n",
    "    \"\"\"\n",
    "    colour_orders = [\"decreasing\", \"reverse\", \"increasing\", \"random\"]\n",
    "    weights = [70, 50, 10, 30]\n",
    "    colour_order = sample(colour_orders, Weights(weights))\n",
    "    return colour_order\n",
    "end"
   ]
  },
  {
   "cell_type": "code",
   "execution_count": 59,
   "metadata": {},
   "outputs": [
    {
     "data": {
      "text/plain": [
       "colour_graph (generic function with 1 method)"
      ]
     },
     "execution_count": 59,
     "metadata": {},
     "output_type": "execute_result"
    }
   ],
   "source": [
    "function colour_graph(input_data; \n",
    "        random_seed = 0, iteration_limit = Inf, timeout = 10)\n",
    "    \n",
    "    Random.seed!(random_seed)\n",
    "    \n",
    "    # use Welsh-Powell to get the first set of colours\n",
    "    N, E, edges = read_input(input_data)\n",
    "    nodes = generate_nodes(N, E, edges)\n",
    "    ordering = order_nodes_welsh_powell(nodes)\n",
    "    nodes = fill_greedily(nodes, ordering, verbose = true)\n",
    "    best_N = find_N_colours(nodes)\n",
    "    \n",
    "    # set up iterators to set up in the loop\n",
    "    i = 1\n",
    "    t0 = Dates.now()\n",
    "    t1 = Dates.now()\n",
    "    timeout_ms = Dates.Millisecond(1000 * timeout)\n",
    "    \n",
    "    while (i < iteration_limit) & (t1 - t0 < timeout_ms)\n",
    "        colour_order = generate_colour_order()\n",
    "        ordering = order_by_colour(nodes, colour_order)\n",
    "        reset_nodes(nodes)\n",
    "        fill_greedily(nodes, ordering, verbose = false)\n",
    "        \n",
    "        N_colours = find_N_colours(nodes)\n",
    "        if N_colours < best_N\n",
    "            println(\"New solution found with $(N_colours) colours.\")\n",
    "            best_N = N_colours\n",
    "        end\n",
    "        \n",
    "        # add to the iteration counter\n",
    "        i += 1\n",
    "        t1 = Dates.now()\n",
    "    end\n",
    "    \n",
    "    # output final string result\n",
    "    N_colours = find_N_colours(nodes)\n",
    "    result = format_result(nodes, N, 0, N_colours)\n",
    "    return result\n",
    "end"
   ]
  },
  {
   "cell_type": "code",
   "execution_count": 61,
   "metadata": {},
   "outputs": [
    {
     "name": "stdout",
     "output_type": "stream",
     "text": [
      "Graph filled. Result has 11 colours.\n"
     ]
    },
    {
     "data": {
      "text/plain": [
       "\"11 0 \\n 4 8 2 6 4 10 11 5 10 6 7 9 3 1 5 3 5 8 2 1\""
      ]
     },
     "execution_count": 61,
     "metadata": {},
     "output_type": "execute_result"
    }
   ],
   "source": [
    "input_data = read(\"data/gc_20_9\", String)\n",
    "colour_graph(input_data, timeout = 10)"
   ]
  },
  {
   "cell_type": "code",
   "execution_count": null,
   "metadata": {},
   "outputs": [],
   "source": []
  }
 ],
 "metadata": {
  "kernelspec": {
   "display_name": "Julia 1.4.1",
   "language": "julia",
   "name": "julia-1.4"
  },
  "language_info": {
   "file_extension": ".jl",
   "mimetype": "application/julia",
   "name": "julia",
   "version": "1.4.1"
  }
 },
 "nbformat": 4,
 "nbformat_minor": 4
}
